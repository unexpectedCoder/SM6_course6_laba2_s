{
 "cells": [
  {
   "cell_type": "markdown",
   "metadata": {},
   "source": [
    "# Лабораторная работа №2: \"Вулканическая баллистика\""
   ]
  },
  {
   "cell_type": "markdown",
   "metadata": {},
   "source": [
    "## Библиотеки"
   ]
  },
  {
   "cell_type": "code",
   "execution_count": 1,
   "metadata": {},
   "outputs": [],
   "source": [
    "from numpy.random import Generator, PCG64\n",
    "from scipy.optimize import root_scalar\n",
    "from typing import Dict, List\n",
    "import matplotlib.pyplot as plt\n",
    "import numpy as np\n",
    "import simpy as sim"
   ]
  },
  {
   "cell_type": "markdown",
   "metadata": {},
   "source": [
    "## Класс бомбы"
   ]
  },
  {
   "cell_type": "code",
   "execution_count": null,
   "metadata": {},
   "outputs": [],
   "source": [
    "class Bomb:\n",
    "    def __init__(self,\n",
    "                 t_erup: float,\n",
    "                 r0: np.ndarray,\n",
    "                 v0: np.ndarray,\n",
    "                 mass: float,\n",
    "                 radius: float):\n",
    "        self.t_erup = t_erup\n",
    "        self.r = r0\n",
    "        self.v = v0\n",
    "        self.m = mass\n",
    "        self.R = radius\n",
    "        # TODO: + ваши поля, которые посчитаете нужным использовать\n",
    "    \n",
    "    def calc_r(self, t: float):\n",
    "        \"\"\"Рассчитать радиус-вектор в момент времени `t`.\"\"\"\n",
    "        pass\n",
    "    \n",
    "    def calc_v(self, t: float):\n",
    "        \"\"\"Рассчитать вектор скорости в момент времени `t`.\"\"\"\n",
    "        pass\n",
    "    \n",
    "    def is_collided(self):\n",
    "        \"\"\"Столкивался ли камень.\"\"\"\n",
    "        pass\n",
    "    \n",
    "    def xy_fall(self):\n",
    "        \"\"\"Координаты падения.\"\"\"\n",
    "        pass"
   ]
  },
  {
   "cell_type": "markdown",
   "metadata": {},
   "source": [
    "## Модель"
   ]
  },
  {
   "cell_type": "markdown",
   "metadata": {},
   "source": [
    "Глобальные списки летящих камней и камней на земле, а также словарь (хэш-таблица) процессов каждого экземпляра бомбы:"
   ]
  },
  {
   "cell_type": "code",
   "execution_count": null,
   "metadata": {},
   "outputs": [],
   "source": [
    "flyings, fallens = [], []\n",
    "processes: Dict[Bomb, List[sim.Process]] = {}"
   ]
  },
  {
   "cell_type": "markdown",
   "metadata": {},
   "source": [
    "Функция формирования генератора чисел:"
   ]
  },
  {
   "cell_type": "code",
   "execution_count": null,
   "metadata": {},
   "outputs": [],
   "source": [
    "def get_rand_state(seed: int | None):\n",
    "    return Generator(PCG64(seed))"
   ]
  },
  {
   "cell_type": "markdown",
   "metadata": {},
   "source": [
    "Процесс выброса камней при извержении. Всего таких процессов при моделировании `n_erups`:"
   ]
  },
  {
   "cell_type": "code",
   "execution_count": null,
   "metadata": {},
   "outputs": [],
   "source": [
    "def eruption(env: sim.Environment, dt: float, n: int, rs: Generator):\n",
    "    \"\"\"Процесс (в терминах `SimPy`) i-го выброса камней.\n",
    "    \n",
    "    env :\n",
    "        Объект среды `SimPy`,\n",
    "        отвечающий за управление и обработку событий.\n",
    "    dt :\n",
    "        Задержка начала процесса.\n",
    "    n :\n",
    "        Число выбрасываемых камней.\n",
    "    rs :\n",
    "        Генератор чисел.\n",
    "    \"\"\"\n",
    "    yield env.timeout(dt)   # Ожидание события ERUPTION\n",
    "    # TODO: action при наступлении события ERUPTION"
   ]
  },
  {
   "cell_type": "markdown",
   "metadata": {},
   "source": [
    "Функция генерации камней:"
   ]
  },
  {
   "cell_type": "code",
   "execution_count": null,
   "metadata": {},
   "outputs": [],
   "source": [
    "def gen_bombs(env: sim.Environment, n: int, rs: Generator):\n",
    "    \"\"\"Сгенерировать n бомб (камней).\n",
    "\n",
    "    env :\n",
    "        Объект среды `SimPy`,\n",
    "        отвечающий за управление и обработку событий.\n",
    "    n :\n",
    "        Число выбрасываемых камней.\n",
    "    rs :\n",
    "        Генератор чисел.\n",
    "    \"\"\"\n",
    "    pass"
   ]
  },
  {
   "cell_type": "markdown",
   "metadata": {},
   "source": [
    "Функция-**процесс**, отвечающая действию при событии `GROUND`:"
   ]
  },
  {
   "cell_type": "code",
   "execution_count": null,
   "metadata": {},
   "outputs": [],
   "source": [
    "def ground(env: sim.Environment, dt: float, b: Bomb):\n",
    "    \"\"\"Процесс (в терминах `SimPy`), происходящий при наступлении\n",
    "    события `GROUND`.\n",
    "    \n",
    "    env :\n",
    "        Объект среды `SimPy`,\n",
    "        отвечающий за управление и обработку событий.\n",
    "    dt :\n",
    "        Задержка начала процесса.\n",
    "    b :\n",
    "        Бомба (камень).\n",
    "    \"\"\"\n",
    "    try:\n",
    "        yield env.timeout(dt)\n",
    "        # TODO: ...\n",
    "    except sim.Interrupt:\n",
    "        return"
   ]
  },
  {
   "cell_type": "markdown",
   "metadata": {},
   "source": [
    "Функция-**процесс**, описывающая действие при событии `COLLISION`:"
   ]
  },
  {
   "cell_type": "code",
   "execution_count": null,
   "metadata": {},
   "outputs": [],
   "source": [
    "def collision(env: sim.Environment, dt: float, b1: Bomb, b2: Bomb):\n",
    "    \"\"\"Процесс (в терминах `SimPy`), происходящий при наступлении\n",
    "    события `COLLISION`.\n",
    "    \n",
    "    env :\n",
    "        Объект среды `SimPy`,\n",
    "        отвечающий за управление и обработку событий.\n",
    "    dt :\n",
    "        Задержка начала процесса.\n",
    "    b1 и b2 :\n",
    "        Бомбы.\n",
    "    \"\"\"\n",
    "    try:\n",
    "        yield env.timeout(dt)\n",
    "        # TODO: ...\n",
    "    except sim.Interrupt:\n",
    "        return"
   ]
  },
  {
   "cell_type": "markdown",
   "metadata": {},
   "source": [
    "Функция очистки очереди событий, связанных с бомбой `b`:"
   ]
  },
  {
   "cell_type": "code",
   "execution_count": null,
   "metadata": {},
   "outputs": [],
   "source": [
    "def clear_queue(b: Bomb):\n",
    "    for proc in processes[b]:\n",
    "        try:\n",
    "            proc.interrupt()\n",
    "        except RuntimeError:\n",
    "            continue"
   ]
  },
  {
   "cell_type": "markdown",
   "metadata": {},
   "source": [
    "Функция расчёта времени падения камня на землю ($z=0$):"
   ]
  },
  {
   "cell_type": "code",
   "execution_count": null,
   "metadata": {},
   "outputs": [],
   "source": [
    "def when_ground(b: Bomb):\n",
    "    pass"
   ]
  },
  {
   "cell_type": "markdown",
   "metadata": {},
   "source": [
    "Функция расчёта скоростей бомб `b1` и `b2` после их столкновения в момент времени `t`:"
   ]
  },
  {
   "cell_type": "code",
   "execution_count": null,
   "metadata": {},
   "outputs": [],
   "source": [
    "def calc_collision(t: float, b1: Bomb, b2: Bomb):\n",
    "    pass"
   ]
  },
  {
   "cell_type": "markdown",
   "metadata": {},
   "source": [
    "Функция расчёта момента времени столкновения камня `b1` с камнем `b2`:"
   ]
  },
  {
   "cell_type": "code",
   "execution_count": null,
   "metadata": {},
   "outputs": [],
   "source": [
    "def when_collision(b1: Bomb, b2: Bomb):\n",
    "    pass"
   ]
  },
  {
   "cell_type": "markdown",
   "metadata": {},
   "source": [
    "Функция-**процесс** моделирования извержения:"
   ]
  },
  {
   "cell_type": "code",
   "execution_count": null,
   "metadata": {},
   "outputs": [],
   "source": [
    "def simulation(env: sim.Environment,\n",
    "               n_erups: int,\n",
    "               rs: Generator,\n",
    "               allowed_collisions=False):\n",
    "    \"\"\"Процесс (в терминах `SimPy`) моделирования.\n",
    "    \n",
    "    env :\n",
    "        Объект среды `SimPy`,\n",
    "        отвечающий за управление и обработку событий.\n",
    "    n_erups :\n",
    "        Количество извержений.\n",
    "    rs :\n",
    "        Генератор чисел.\n",
    "    allowed_collisions :\n",
    "        Столкновения возможны (`True`) или нет (`False`).\n",
    "    \"\"\"\n",
    "    pass"
   ]
  },
  {
   "cell_type": "markdown",
   "metadata": {},
   "source": [
    "Функция **запуска** моделирования извержения (с или без учёта столкновения камней):"
   ]
  },
  {
   "cell_type": "code",
   "execution_count": null,
   "metadata": {},
   "outputs": [],
   "source": [
    "def simulate(n_erups: int,\n",
    "             allowed_collisions=False,\n",
    "             seed: int = None):\n",
    "    \"\"\"Запустить моделирование извержения.\n",
    "    \n",
    "    n_erups:\n",
    "        Количество извержений.\n",
    "    allowed_collisions :\n",
    "        Столкновения возможны (`True`) или нет (`False`).\n",
    "    seed:\n",
    "        Затравка для генератора чисел.\n",
    "    \"\"\"\n",
    "    rs = get_rand_state(seed)\n",
    "    # TODO: ..."
   ]
  },
  {
   "cell_type": "markdown",
   "metadata": {},
   "source": [
    "Основная функция компьютерной модели:"
   ]
  },
  {
   "cell_type": "code",
   "execution_count": null,
   "metadata": {},
   "outputs": [],
   "source": [
    "def main(n_erups: int):\n",
    "    \"\"\"Главная функция - точка входа в программу.\n",
    "    \n",
    "    n_erups :\n",
    "        Количество извержений.\n",
    "    \"\"\"\n",
    "    # TODO: ...\n",
    "    simulate(...)\n",
    "    # TODO: ...\n",
    "    return 0"
   ]
  },
  {
   "cell_type": "markdown",
   "metadata": {},
   "source": [
    "## Моделирование"
   ]
  },
  {
   "cell_type": "code",
   "execution_count": null,
   "metadata": {},
   "outputs": [],
   "source": [
    "n_erups = 12    # Назначайте любое значение, но не менее 12\n",
    "main(n_erups)"
   ]
  },
  {
   "cell_type": "markdown",
   "metadata": {},
   "source": [
    "## Визуализация\n",
    "\n",
    "Универсальная функция визуализации точек падения камней:"
   ]
  },
  {
   "cell_type": "code",
   "execution_count": null,
   "metadata": {},
   "outputs": [],
   "source": [
    "def top_view(xy: np.ndarray, ax=None, **kw):\n",
    "    if ax is None:\n",
    "        _, ax = plt.subplots()\n",
    "    marker = kw.get(\"marker\", \".\")\n",
    "    color = kw.get(\"color\", \"k\")\n",
    "    label = kw.get(\"label\", \"\")\n",
    "    alpha = kw.get(\"alpha\", 1.)\n",
    "    ax.plot(xy[:, 0], xy[:, 1],\n",
    "            ls=\"\", marker=marker, c=color, alpha=alpha, label=label)\n",
    "    return ax"
   ]
  },
  {
   "cell_type": "markdown",
   "metadata": {},
   "source": [
    "## Рекомендации\n",
    "\n",
    "* Используйте функции [`save`](https://numpy.org/doc/stable/reference/generated/numpy.save.html) и/или [`savez`](https://numpy.org/doc/stable/reference/generated/numpy.savez.html) библиотеки `NumPy` для сохранения точек падения. Вам не нужно будет хранить все полученные данные в оперативной памяти. После моделирования вы сможете читать данные в другой части кода, отделённой от той его части, которая отвечает за моделирование.\n",
    "* Решить уравнение встречи бомб можете численным методом [`root_scalar`](https://docs.scipy.org/doc/scipy/reference/generated/scipy.optimize.root_scalar.html) из пакета `SciPy`.\n",
    "* Используйте библиотеку дискретно-событийного моделирования [`SimPy`](https://simpy.readthedocs.io/en/latest/), чтобы не изобретать велосипед. Либо реализуйте программу согласно псевдокоду с лекции по теме дискретно-событийного моделирования."
   ]
  }
 ],
 "metadata": {
  "kernelspec": {
   "display_name": "Python 3.10.6 ('.venv': venv)",
   "language": "python",
   "name": "python3"
  },
  "language_info": {
   "codemirror_mode": {
    "name": "ipython",
    "version": 3
   },
   "file_extension": ".py",
   "mimetype": "text/x-python",
   "name": "python",
   "nbconvert_exporter": "python",
   "pygments_lexer": "ipython3",
   "version": "3.10.6"
  },
  "orig_nbformat": 4,
  "vscode": {
   "interpreter": {
    "hash": "ba9570baa6e925bb7c97c9565c44f2a9cbecb412f22b5c1b69b7184c022900db"
   }
  }
 },
 "nbformat": 4,
 "nbformat_minor": 2
}
